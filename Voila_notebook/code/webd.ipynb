{
 "cells": [
  {
   "cell_type": "code",
   "execution_count": 110,
   "id": "372be8f0-639b-404a-8af6-ba99fafbf98d",
   "metadata": {
    "extensions": {
     "jupyter_dashboards": {
      "version": 1,
      "views": {
       "default_view": {
        "hidden": true
       }
      }
     }
    }
   },
   "outputs": [],
   "source": [
    "import numpy as np\n",
    "import pandas as pd\n",
    "import sys\n",
    "import os\n",
    "from datetime import datetime\n",
    "import matplotlib.pyplot as plt\n",
    "sys.path.insert(0, '../helpers')\n",
    "import func\n",
    "import voila\n",
    "from ipywidgets import interactive,HBox,Layout,Button,GridspecLayout, interact, interact_manual\n",
    "import ipywidgets\n",
    "import time\n",
    "import ipyvuetify as v\n"
   ]
  },
  {
   "cell_type": "code",
   "execution_count": 111,
   "id": "3c68f263-4c4e-49c0-9abc-2fd9b54115d7",
   "metadata": {
    "extensions": {
     "jupyter_dashboards": {
      "version": 1,
      "views": {
       "default_view": {
        "hidden": true
       }
      }
     }
    }
   },
   "outputs": [],
   "source": [
    "dfCSV = pd.read_csv('Voila_notebook/resultadoGeral20220117.csv', sep=',')\n",
    "df = dfCSV.set_index(pd.DatetimeIndex(pd.to_datetime(dfCSV['data']))).sort_index()\n"
   ]
  },
  {
   "cell_type": "code",
   "execution_count": 112,
   "id": "21d270a3-8e81-486d-b96b-98b4cef743cb",
   "metadata": {
    "extensions": {
     "jupyter_dashboards": {
      "version": 1,
      "views": {
       "default_view": {
        "hidden": true
       }
      }
     }
    }
   },
   "outputs": [],
   "source": [
    "df['AtivoTotal'] = df['A - Improdutiva'] + df['A - Alô sem CPC'] + df['A - Alô com CPC negativo'] + df['A - Alô com CPC positivo']\n",
    "df['ReceptivoTotal'] = df['R - Improdutiva'] + df['R - Alô sem CPC'] + df['R - Alô com CPC negativo'] + df['R - Alô com CPC positivo']\n",
    "df['pcOcioso'] = df['Ocioso'] / (df['Ocioso'] + df['Falando'])\n",
    "df['logado'] = df['Ocioso'] + df['Falando']\n",
    "df['ligacoes'] = df['Receptivo']\n",
    "\n",
    "df['Improdutiva'] = df['A - Improdutiva'] + df['R - Improdutiva']\n",
    "df['Alô sem CPC'] = df['A - Alô sem CPC'] + df['R - Alô sem CPC']\n",
    "df['Alô com CPC negativo'] = df['A - Alô com CPC negativo'] + df['R - Alô com CPC negativo']\n",
    "df['Alô com CPC positivo'] = df['A - Alô com CPC positivo'] + df['R - Alô com CPC positivo']\n",
    "\n",
    "df['pc - Improdutiva'] = df['Improdutiva'] / ( df['ReceptivoTotal'] + df['AtivoTotal'] )\n",
    "df['pc - Alô sem CPC'] = df['Alô sem CPC'] / ( df['ReceptivoTotal'] + df['AtivoTotal'] )\n",
    "df['pc - Alô com CPC negativo'] = df['Alô com CPC negativo'] / ( df['ReceptivoTotal'] + df['AtivoTotal'] )\n",
    "df['pc - Alô com CPC positivo'] = df['Alô com CPC positivo'] / ( df['ReceptivoTotal'] + df['AtivoTotal'] )\n",
    "\n",
    "df['pcR - Improdutiva'] = df['R - Improdutiva'] / df['ReceptivoTotal']\n",
    "df['pcR - Alô sem CPC'] = df['R - Alô sem CPC'] / df['ReceptivoTotal']\n",
    "df['pcR - Alô com CPC negativo'] = df['R - Alô com CPC negativo'] / df['ReceptivoTotal']\n",
    "df['pcR - Alô com CPC positivo'] = df['R - Alô com CPC positivo'] / df['ReceptivoTotal']\n",
    "\n",
    "df['pcA - Improdutiva'] = df['A - Improdutiva'] / df['AtivoTotal']\n",
    "df['pcA - Alô sem CPC'] = df['A - Alô sem CPC'] / df['AtivoTotal']\n",
    "df['pcA - Alô com CPC negativo'] = df['A - Alô com CPC negativo'] / df['AtivoTotal']\n",
    "df['pcA - Alô com CPC positivo'] = df['A - Alô com CPC positivo'] / df['AtivoTotal']"
   ]
  },
  {
   "cell_type": "code",
   "execution_count": 113,
   "id": "75cbb06e-cb9e-44c2-af0b-65c85997bfdb",
   "metadata": {
    "extensions": {
     "jupyter_dashboards": {
      "version": 1,
      "views": {
       "default_view": {
        "hidden": true
       }
      }
     }
    }
   },
   "outputs": [],
   "source": [
    "inidate = '2021-07-11'\n",
    "enddate = '2022-01-17'\n",
    "operacao = 'CARTAO'\n",
    "#operacao = 'CONSIG'\n",
    "#operacao = 'ITI'\n",
    "#operacao = 'VEICULOS'\n",
    "#operacao = 'C6'\n",
    "#operacao = 'TODAS'\n",
    "operacoes = ['CARTAO','CONSIG','ITI','VEICULOS','C6']\n",
    "#if(operacao == 'TODAS'):\n",
    "    #dfR = df[inidate:enddate]\n",
    "#else:\n",
    "    #dfR = df[df['operacao'] == operacao][inidate:enddate]\n",
    "\n",
    "    \n",
    "#nome_operacao = {1:' CARTAO ',2:' CONSIG ', 3:' ITI ', 4:' VEICULOS ', 5:' C6 ', 6:' TODAS '}\n",
    "%matplotlib widget"
   ]
  },
  {
   "cell_type": "code",
   "execution_count": 114,
   "id": "5d7261c8",
   "metadata": {
    "extensions": {
     "jupyter_dashboards": {
      "version": 1,
      "views": {
       "default_view": {
        "hidden": true
       }
      }
     }
    }
   },
   "outputs": [],
   "source": [
    "\n",
    "freq = 'D'\n",
    "dfR = df[inidate:enddate]\n",
    "t = 'Resultado geral - ATIVO + RECEPTIVO - [' + operacao + ']'\n",
    "iP = ['Alô com CPC positivo', 'Alô com CPC negativo', 'Alô sem CPC', 'Improdutiva']\n",
    "cP = ['seagreen', 'darkorange']"
   ]
  },
  {
   "cell_type": "code",
   "execution_count": 115,
   "id": "a16817e1-d250-4b76-a0eb-19349ca4bbbf",
   "metadata": {
    "extensions": {
     "jupyter_dashboards": {
      "version": 1,
      "views": {
       "default_view": {
        "col": 6,
        "height": 14,
        "row": 0,
        "width": 6
       }
      }
     }
    }
   },
   "outputs": [],
   "source": [
    "\n",
    "dfChart = dfR[iP].resample(freq).sum().dropna()\n",
    "dfChart.index = dfChart.index.strftime('%Y-%m-%d')\n",
    "dfChart['Alô com CPC positivo'] = str(dfChart['Alô com CPC positivo'])\n",
    "dfChart['Alô com CPC positivo']= dfChart['Alô com CPC positivo'].str.split(\"data\", n = 1 , expand = True)\n",
    "dat = dfChart[iP]\n",
    "data = dfChart['Alô com CPC positivo']\n",
    "data = data.to_frame()\n",
    "data = data.reset_index()\n",
    "dec = data['data'].sort_values(ascending = False)\n",
    "dec = dec.to_frame()\n",
    "\n",
    "data = data['data'] \n",
    "dec = dec['data'] \n",
    "\n",
    "\n",
    "def plot_t(indate,endate,freq, operacao):\n",
    "    operacao = operacao\n",
    "    dfR = df[df['operacao'] == operacao][inidate:enddate]\n",
    "    t = 'Resultado geral - ATIVO + RECEPTIVO - [' + operacao + ']'\n",
    "    iP = ['Alô com CPC positivo', 'Alô com CPC negativo', 'Alô sem CPC', 'Improdutiva']\n",
    "    cP = ['seagreen', 'darkorange']\n",
    "    freq = freq\n",
    "    dfRr = df[inidate:enddate]\n",
    "    dfCharti = dfR[iP].resample(freq).sum().dropna()\n",
    "    dfCharti.index = dfCharti.index.strftime('%Y-%m-%d')\n",
    "    dfCharti = dfCharti[indate:endate]\n",
    "\n",
    "    \n",
    "    ax = dfCharti.plot.bar(title= t , figsize=(5,3), grid=True, stacked=True)\n",
    "    plt.legend(fontsize = 6) \n",
    "    #ax.legend(loc='center right', bbox_to_anchor=(-0.08, 0.5), ncol = 1 )\n",
    "    plt.tight_layout()\n",
    "    plt.show()\n",
    "\n",
    "fig2= ipywidgets.interactive(plot_t,indate= (data) , endate = (dec),freq = ['W','D','M'], operacao = operacoes)\n",
    "#fig2.children\n"
   ]
  },
  {
   "cell_type": "code",
   "execution_count": 156,
   "id": "8edd2003",
   "metadata": {
    "extensions": {
     "jupyter_dashboards": {
      "version": 1,
      "views": {
       "default_view": {
        "col": 0,
        "height": 14,
        "row": 0,
        "width": 6
       }
      }
     }
    }
   },
   "outputs": [
    {
     "data": {
      "application/vnd.jupyter.widget-view+json": {
       "model_id": "3b1bbe27dba14080be501130c81de71f",
       "version_major": 2,
       "version_minor": 0
      },
      "text/plain": [
       "GridspecLayout(children=(Button(description='TITULO XXXXX', layout=Layout(grid_area='widget001', height='auto'…"
      ]
     },
     "metadata": {},
     "output_type": "display_data"
    }
   ],
   "source": [
    "\n",
    "from ipywidgets import interactive,HBox,Layout,Button,GridspecLayout, interact, interact_manual\n",
    "def expanded_button(description, button_style):\n",
    "    return Button(description=description,button_style=button_style,layout=Layout(height='auto',width = 'auto'))\n",
    "def plot_d(indate,endate,freq,operacao):\n",
    "    operacao = operacao\n",
    "    dfR = df[df['operacao'] == operacao][inidate:enddate]\n",
    "    t =  'Resultado geral - ATIVO % - [' + operacao + ']'\n",
    "    iP = ['pcA - Alô com CPC positivo', 'pcA - Alô com CPC negativo', 'pcA - Alô sem CPC', 'pcA - Improdutiva']\n",
    "    cP = ['seagreen', 'darkorange']\n",
    "    freq = freq\n",
    "    dfRr = df[inidate:enddate]\n",
    "    dfChart = dfR[iP].resample(freq).mean().dropna()\n",
    "    dfChart.index = dfChart.index.strftime('%Y-%m-%d')\n",
    "    dfChart = dfChart[indate:endate]\n",
    "\n",
    "    ax = dfChart.plot.bar(title=t, figsize=(5,3), grid=False, stacked=True)\n",
    "    plt.legend(fontsize = 5)\n",
    "    #ax.legend(loc='center right', bbox_to_anchor=(-0.08, 0.5), ncol = 1 )\n",
    "    plt.tight_layout()\n",
    "    plt.show()\n",
    "fig1 = ipywidgets.interactive(plot_d,indate= (data) , endate = (dec),freq = ['W','D','M'], operacao = operacoes)\n",
    "#fig1.children\n",
    "\n",
    "\n",
    "grid = GridspecLayout(17, 14, height =  '600px')\n",
    "\n",
    "controls = HBox(fig1.children[:-1], layout = Layout( width = 'auto' , height = 'auto'))\n",
    "grid_inidate = HBox(fig1.children[0:1], layout = Layout( width = '200px', height = '32px'))\n",
    "grid_enddate = HBox(fig1.children[1:2],layout = Layout( width = '200px', height = '32px'))\n",
    "grid_freq = HBox(fig1.children[2:3],layout = Layout( width = '200px', height = '32px'))\n",
    "grid_operacao = HBox(fig1.children[3:4],layout = Layout( width = '200px', height = '32px'))\n",
    "output = fig1.children[-1]\n",
    "\n",
    "\n",
    "controls_2 = HBox(fig2.children[:-1], layout = Layout( width = 'auto' , height = 'auto'))\n",
    "grid_inidate_2 = HBox(fig2.children[0:1], layout = Layout( width = '200px', height = '32px'))\n",
    "grid_enddate_2 = HBox(fig2.children[1:2],layout = Layout( width = '200px', height = '32px'))\n",
    "grid_freq_2 = HBox(fig2.children[2:3],layout = Layout( width = '200px', height = '32px'))\n",
    "grid_operacao_2 = HBox(fig2.children[3:4],layout = Layout( width = '200px', height = '32px'))\n",
    "output_2 = fig2.children[-1]\n",
    "\n",
    "\n",
    "\n",
    "\n",
    "\n",
    "Top_name = Button(description = 'TITULO XXXXX' ,layout=Layout(height='auto',width = 'auto'))\n",
    "Top_name.style.button_color = 'lightblue'\n",
    "Top_name.style.font_weight='bold'\n",
    "\n",
    "grid[0,0:14] = Top_name\n",
    "grid[1:2, 1:3] =grid_inidate\n",
    "grid[2:3, 1:3] =grid_enddate\n",
    "grid[1:2, 3:4] =grid_freq\n",
    "grid[2:3, 3:4] =grid_operacao\n",
    "\n",
    "grid[3:,0:7] = output\n",
    "\n",
    "\n",
    "grid[1:2, 9:10] =grid_inidate_2 \n",
    "grid[2:3, 9:10] =grid_enddate_2\n",
    "grid[1:2, 10:12] =grid_freq_2\n",
    "grid[2:3, 10:12] =grid_operacao_2\n",
    "grid[3:, 8:] = output_2\n",
    "\n",
    "\n",
    "grid\n",
    "\n"
   ]
  },
  {
   "cell_type": "code",
   "execution_count": null,
   "id": "7abc5dc3-3f18-4d30-a005-7ab6b5a23f58",
   "metadata": {
    "extensions": {
     "jupyter_dashboards": {
      "version": 1,
      "views": {
       "default_view": {
        "hidden": true
       }
      }
     }
    }
   },
   "outputs": [],
   "source": [
    "\n",
    "    \n"
   ]
  },
  {
   "cell_type": "code",
   "execution_count": null,
   "id": "cfb8b2fe-6969-4db1-a903-4ac01b7834ba",
   "metadata": {
    "extensions": {
     "jupyter_dashboards": {
      "version": 1,
      "views": {
       "default_view": {
        "hidden": true
       }
      }
     }
    }
   },
   "outputs": [],
   "source": [
    "\n"
   ]
  },
  {
   "cell_type": "code",
   "execution_count": null,
   "id": "f463dadd-6c93-4666-b97a-7cbeb83201c4",
   "metadata": {
    "extensions": {
     "jupyter_dashboards": {
      "version": 1,
      "views": {
       "default_view": {
        "hidden": true
       }
      }
     }
    }
   },
   "outputs": [],
   "source": []
  },
  {
   "cell_type": "code",
   "execution_count": null,
   "id": "a5f73cc7-a13f-4a3d-84dc-9933c41782e9",
   "metadata": {
    "extensions": {
     "jupyter_dashboards": {
      "version": 1,
      "views": {
       "default_view": {
        "hidden": true
       }
      }
     }
    }
   },
   "outputs": [],
   "source": []
  }
 ],
 "metadata": {
  "extensions": {
   "jupyter_dashboards": {
    "activeView": "default_view",
    "version": 1,
    "views": {
     "default_view": {
      "cellMargin": 10,
      "defaultCellHeight": 40,
      "maxColumns": 12,
      "name": "active_view",
      "type": "grid"
     }
    }
   }
  },
  "kernelspec": {
   "display_name": "Python 3",
   "language": "python",
   "name": "python3"
  },
  "language_info": {
   "codemirror_mode": {
    "name": "ipython",
    "version": 3
   },
   "file_extension": ".py",
   "mimetype": "text/x-python",
   "name": "python",
   "nbconvert_exporter": "python",
   "pygments_lexer": "ipython3",
   "version": "3.8.8"
  }
 },
 "nbformat": 4,
 "nbformat_minor": 5
}
